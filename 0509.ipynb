{
  "nbformat": 4,
  "nbformat_minor": 0,
  "metadata": {
    "colab": {
      "name": "0509.ipynb",
      "provenance": [],
      "authorship_tag": "ABX9TyNhUZGxjAMY5073zHiuRqmR",
      "include_colab_link": true
    },
    "kernelspec": {
      "name": "python3",
      "display_name": "Python 3"
    },
    "language_info": {
      "name": "python"
    }
  },
  "cells": [
    {
      "cell_type": "markdown",
      "metadata": {
        "id": "view-in-github",
        "colab_type": "text"
      },
      "source": [
        "<a href=\"https://colab.research.google.com/github/410608177/Introduction-to-Computers/blob/main/0509.ipynb\" target=\"_parent\"><img src=\"https://colab.research.google.com/assets/colab-badge.svg\" alt=\"Open In Colab\"/></a>"
      ]
    },
    {
      "cell_type": "code",
      "execution_count": null,
      "metadata": {
        "colab": {
          "base_uri": "https://localhost:8080/"
        },
        "id": "vEFrsza27mtq",
        "outputId": "b1bcb687-014c-4551-945e-40d91378d7e2"
      },
      "outputs": [
        {
          "output_type": "stream",
          "name": "stdout",
          "text": [
            "請輸入你的體溫20\n",
            "體溫異常,請重新量測!\n"
          ]
        }
      ],
      "source": [
        "temp = float(input(\"請輸入你的體溫\"))\n",
        "if temp >= 37.5:\n",
        "  print(\"體溫過高!\")\n",
        "elif temp >= 37 and temp < 37.4:\n",
        "  print(\"體溫略高!\")\n",
        "elif temp >= 34 and temp <= 36.9:\n",
        "  print(\"體溫正常!\")\n",
        "else:\n",
        "  print(\"體溫異常,請重新量測!\")"
      ]
    },
    {
      "cell_type": "code",
      "source": [
        "score = input(\"請輸入成績\")\n",
        "if (int(score) >= 90):\n",
        "  print(\"A\")\n",
        "elif (int(score) >= 80):\n",
        "  print(\"B\")\n",
        "elif (int(score) >= 70):\n",
        "  print(\"C\")\n",
        "elif (int(score) >= 60):\n",
        "  print(\"D\")\n",
        "else:\n",
        "  print(\"E\")"
      ],
      "metadata": {
        "colab": {
          "base_uri": "https://localhost:8080/"
        },
        "id": "A3S1uZSmmYgf",
        "outputId": "6f14c530-d666-4251-f4fb-6414421e1ace"
      },
      "execution_count": 4,
      "outputs": [
        {
          "output_type": "stream",
          "name": "stdout",
          "text": [
            "請輸入成績80\n",
            "B\n"
          ]
        }
      ]
    },
    {
      "cell_type": "code",
      "source": [
        "money = int(input(\"請輸入購物金額: \"))\n",
        "if (money >= 10000):\n",
        "  if (money >= 100000):\n",
        "      print(\"八折\",money *0.8,end=\"元\\n\")\n",
        "  elif (money >= 50000):\n",
        "      print(\"八五折\",money *0.85,end=\"元\\n\")\n",
        "  elif (money >= 30000):\n",
        "      print(\"九折\",money *0.9,end=\"元\\n\")\n",
        "  else: \n",
        "      print(\"九五折\",money *0.95,end=\"元\\n\")\n",
        "else:\n",
        "  print(\"沒打折\",money,end=\"元\\n\")"
      ],
      "metadata": {
        "colab": {
          "base_uri": "https://localhost:8080/"
        },
        "id": "-dsTEJH0oGw0",
        "outputId": "7dbc67c3-603c-4c3e-8836-6e28619e14b4"
      },
      "execution_count": 12,
      "outputs": [
        {
          "output_type": "stream",
          "name": "stdout",
          "text": [
            "請輸入購物金額: 100000\n",
            "八折 80000.0元\n"
          ]
        }
      ]
    },
    {
      "cell_type": "code",
      "source": [
        "month = int(input(\"請輸入月份\"))\n",
        "if (month == 3 or month== 4 or month== 5):\n",
        "  print(month,\"月是春天!\")\n",
        "elif (month == 6 or month== 7 or month== 8):\n",
        "  print(month,\"月是夏天!\")\n",
        "elif (month == 9 or month== 10 or month== 11):\n",
        "  print(month,\"月是秋天!\")\n",
        "elif (month == 12 or month== 1 or month== 2):\n",
        "  print(month,\"月是冬天!\")\n",
        "else:\n",
        "  print(month,\"月份不在範圍內!\")\n"
      ],
      "metadata": {
        "colab": {
          "base_uri": "https://localhost:8080/"
        },
        "id": "_5pfzeK1vLAm",
        "outputId": "f1819dde-c8fc-4d41-87d5-e80c55f7085a"
      },
      "execution_count": 23,
      "outputs": [
        {
          "output_type": "stream",
          "name": "stdout",
          "text": [
            "請輸入月份4\n",
            "4 月是春天!\n"
          ]
        }
      ]
    },
    {
      "cell_type": "code",
      "source": [
        "revenue = int(input(\"請輸入今年收入淨額: \"))\n",
        "if (revenue >= 300000):\n",
        "  if (revenue >= 2000000):\n",
        "    print(\"付稅金額:\",revenue *0.3,end=\"元\\n\")\n",
        "  elif (revenue >= 1000000):\n",
        "    print(\"付稅金額:\",revenue *0.21,end=\"元\\n\")\n",
        "  elif (revenue >= 600000):\n",
        "    print(\"付稅金額:\",revenue *0.13,end=\"元\\n\")\n",
        "  else:\n",
        "    print(\"付稅金額:\",revenue *0.06,end=\"元\\n\")\n",
        "else:\n",
        "  print(\"付稅金額:\",0,end=\"元\\n\")"
      ],
      "metadata": {
        "colab": {
          "base_uri": "https://localhost:8080/"
        },
        "id": "_bKr-EjDwdQh",
        "outputId": "aae092f4-e4eb-425c-ebe6-3929e6cf0881"
      },
      "execution_count": 15,
      "outputs": [
        {
          "output_type": "stream",
          "name": "stdout",
          "text": [
            "請輸入今年收入淨額: 100\n",
            "付稅金額: 0元\n"
          ]
        }
      ]
    }
  ]
}